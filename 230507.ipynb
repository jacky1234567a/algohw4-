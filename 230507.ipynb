{
 "cells": [
  {
   "cell_type": "code",
   "execution_count": null,
   "id": "8ca7ce34",
   "metadata": {},
   "outputs": [],
   "source": [
    "#第一題\n",
    "import time\n",
    "import matplotlib.pyplot as plt\n",
    "\n",
    "# Pure recursive method\n",
    "def fibonacci_recursive(n):\n",
    "    if n <= 1:\n",
    "        return n\n",
    "    else:\n",
    "        return fibonacci_recursive(n-1) + fibonacci_recursive(n-2)\n",
    "\n",
    "# Dynamic programming method\n",
    "def fibonacci_dynamic(n):\n",
    "    if n <= 1:\n",
    "        return n\n",
    "    else:\n",
    "        dp = [0] * (n+1)\n",
    "        dp[0], dp[1] = 0, 1\n",
    "        for i in range(2, n+1):\n",
    "            dp[i] = dp[i-1] + dp[i-2]\n",
    "        return dp[n]\n",
    "\n",
    "n_values = list(range(10, 101, 10))\n",
    "recursive_times = []\n",
    "dynamic_times = []\n",
    "\n",
    "for n in n_values:\n",
    "    start_time = time.time()\n",
    "    fibonacci_recursive(n)\n",
    "    end_time = time.time()\n",
    "    recursive_times.append(end_time - start_time if n < 50 else 999)  # Mark time as 999 for n >= 50\n",
    "    \n",
    "    start_time = time.time()\n",
    "    fibonacci_dynamic(n)\n",
    "    end_time = time.time()\n",
    "    dynamic_times.append(end_time - start_time)\n",
    "\n",
    "# Plot the results\n",
    "plt.plot(n_values, recursive_times, label=\"Recursive\")\n",
    "plt.plot(n_values, dynamic_times, label=\"Dynamic\")\n",
    "plt.legend()\n",
    "plt.xlabel(\"n\")\n",
    "plt.ylabel(\"Execution time (s)\")\n",
    "plt.show()"
   ]
  },
  {
   "cell_type": "code",
   "execution_count": null,
   "id": "b74d0fdd",
   "metadata": {},
   "outputs": [],
   "source": [
    "#第二題recursive Fibonacci方式\n",
    "def fibonacci(n):\n",
    "    if n <= 1:\n",
    "        return n\n",
    "    else:\n",
    "        return fibonacci(n-1) + fibonacci(n-2)\n",
    "\n",
    "i = 0\n",
    "while True:\n",
    "    try:\n",
    "        fibonacci(i+1)\n",
    "        i += 1\n",
    "    except:\n",
    "        print(\"Max n for recursive Fibonacci:\", i-1)\n",
    "        break"
   ]
  },
  {
   "cell_type": "code",
   "execution_count": 2,
   "id": "ae4ef4a7",
   "metadata": {},
   "outputs": [
    {
     "name": "stdout",
     "output_type": "stream",
     "text": [
      "Dynamic programming Fibonacci for n = 5000 : 6276302800488957086035253108349684055478528702736457439025824448927937256811663264475883711527806250329984690249846819800648580083040107584710332687596562185073640422286799239932615797105974710857095487342820351307477141875012176874307156016229965832589137779724973854362777629878229505500260477136108363709090010421536915488632339240756987974122598603591920306874926755600361865354330444681915154695741851960071089944015319300128574107662757054790648152751366475529121877212785489665101733755898580317984402963873738187000120737824193162011399200547424034440836239726275765901190914513013217132050988064832024783370583789324109052449717186857327239783000020791777804503930439875068662687670678802914269784817022567088069496231111407908953313902398529655056082228598715882365779469902465675715699187225655878240668599547496218159297881601061923195562143932693324644219266564617042934227893371179832389642895285401263875342640468017378925921483580111278055044254198382265567395946431803304304326865077742925818757370691726168228648841319231470626\n"
     ]
    }
   ],
   "source": [
    "#第二題dynamic programming方式\n",
    "def fibonacci_dp(n):\n",
    "    if n <= 1:\n",
    "        return n\n",
    "    else:\n",
    "        a = 0\n",
    "        b = 1\n",
    "        for i in range(2, n+1):\n",
    "            c = a + b\n",
    "            a = b\n",
    "            b = c\n",
    "        return b\n",
    "\n",
    "n = 5000\n",
    "fibonacci_dp(n+1)\n",
    "print(\"Dynamic programming Fibonacci for n =\", n, \":\", fibonacci_dp(n+1))"
   ]
  },
  {
   "cell_type": "code",
   "execution_count": null,
   "id": "91ee759a",
   "metadata": {},
   "outputs": [],
   "source": []
  }
 ],
 "metadata": {
  "kernelspec": {
   "display_name": "Python 3 (ipykernel)",
   "language": "python",
   "name": "python3"
  },
  "language_info": {
   "codemirror_mode": {
    "name": "ipython",
    "version": 3
   },
   "file_extension": ".py",
   "mimetype": "text/x-python",
   "name": "python",
   "nbconvert_exporter": "python",
   "pygments_lexer": "ipython3",
   "version": "3.9.12"
  }
 },
 "nbformat": 4,
 "nbformat_minor": 5
}
